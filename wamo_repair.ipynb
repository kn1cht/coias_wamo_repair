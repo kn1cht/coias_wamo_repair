{
 "cells": [
  {
   "cell_type": "code",
   "execution_count": 1,
   "metadata": {},
   "outputs": [],
   "source": [
    "%load_ext autoreload\n",
    "%autoreload 2\n"
   ]
  },
  {
   "cell_type": "code",
   "execution_count": 2,
   "metadata": {},
   "outputs": [],
   "source": [
    "import time\n",
    "from wamo_repair_util import *\n"
   ]
  },
  {
   "cell_type": "code",
   "execution_count": 3,
   "metadata": {},
   "outputs": [],
   "source": [
    "user_input = input('directory to search OLD send_mpc.txt (required): ')\n",
    "if user_input:\n",
    "    old_sendmpc_directory = user_input\n",
    "else:\n",
    "    print('Please specify directory name !!!')\n"
   ]
  },
  {
   "cell_type": "code",
   "execution_count": 4,
   "metadata": {},
   "outputs": [],
   "source": [
    "user_input = input('directory to save NEW send_mpc.txt (option): ')\n",
    "if user_input:\n",
    "    new_sendmpc_directory = user_input\n",
    "else:\n",
    "    new_sendmpc_directory = 'new_' + old_sendmpc_directory\n"
   ]
  },
  {
   "cell_type": "code",
   "execution_count": 5,
   "metadata": {},
   "outputs": [
    {
     "name": "stdout",
     "output_type": "stream",
     "text": [
      "gathering files...\n",
      "found 216\n"
     ]
    }
   ],
   "source": [
    "file_array = search_send_mpc(old_sendmpc_directory)\n"
   ]
  },
  {
   "cell_type": "code",
   "execution_count": null,
   "metadata": {},
   "outputs": [],
   "source": [
    "for fname in file_array[:3]:\n",
    "    with open(fname, \"r\") as file:\n",
    "        old_txt = file.read()\n",
    "    result = post_request(old_txt)\n",
    "    print_log(fname, old_txt, result)\n",
    "    create_new_file(fname, result[\"new_send_mpc\"],\n",
    "                    old_sendmpc_directory, new_sendmpc_directory)\n",
    "    time.sleep(0.25)\n"
   ]
  },
  {
   "cell_type": "code",
   "execution_count": null,
   "metadata": {},
   "outputs": [],
   "source": []
  }
 ],
 "metadata": {
  "kernelspec": {
   "display_name": "Python 3",
   "language": "python",
   "name": "python3"
  },
  "language_info": {
   "codemirror_mode": {
    "name": "ipython",
    "version": 3
   },
   "file_extension": ".py",
   "mimetype": "text/x-python",
   "name": "python",
   "nbconvert_exporter": "python",
   "pygments_lexer": "ipython3",
   "version": "3.9.13"
  }
 },
 "nbformat": 4,
 "nbformat_minor": 2
}
